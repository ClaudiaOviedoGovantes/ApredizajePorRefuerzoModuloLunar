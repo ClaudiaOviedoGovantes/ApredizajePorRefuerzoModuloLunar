{
 "cells": [
  {
   "cell_type": "code",
   "execution_count": 1,
   "id": "351e27b1",
   "metadata": {},
   "outputs": [],
   "source": [
    "%load_ext autoreload\n",
    "%autoreload 2\n",
    "\n",
    "from DQN import DQN\n",
    "import tensorflow as tf\n",
    "import numpy as np\n",
    "import keras\n"
   ]
  },
  {
   "cell_type": "code",
   "execution_count": null,
   "id": "f0523c52",
   "metadata": {},
   "outputs": [
    {
     "name": "stdout",
     "output_type": "stream",
     "text": [
      "tf.Tensor([[1. 1. 1. 1. 1. 1. 1. 1.]], shape=(1, 8), dtype=float32)\n"
     ]
    },
    {
     "data": {
      "text/html": [
       "<pre style=\"white-space:pre;overflow-x:auto;line-height:normal;font-family:Menlo,'DejaVu Sans Mono',consolas,'Courier New',monospace\"><span style=\"font-weight: bold\">Model: \"dqn_4\"</span>\n",
       "</pre>\n"
      ],
      "text/plain": [
       "\u001b[1mModel: \"dqn_4\"\u001b[0m\n"
      ]
     },
     "metadata": {},
     "output_type": "display_data"
    },
    {
     "data": {
      "text/html": [
       "<pre style=\"white-space:pre;overflow-x:auto;line-height:normal;font-family:Menlo,'DejaVu Sans Mono',consolas,'Courier New',monospace\">┏━━━━━━━━━━━━━━━━━━━━━━━━━━━━━━━━━┳━━━━━━━━━━━━━━━━━━━━━━━━┳━━━━━━━━━━━━━━━┓\n",
       "┃<span style=\"font-weight: bold\"> Layer (type)                    </span>┃<span style=\"font-weight: bold\"> Output Shape           </span>┃<span style=\"font-weight: bold\">       Param # </span>┃\n",
       "┡━━━━━━━━━━━━━━━━━━━━━━━━━━━━━━━━━╇━━━━━━━━━━━━━━━━━━━━━━━━╇━━━━━━━━━━━━━━━┩\n",
       "│ dense_12 (<span style=\"color: #0087ff; text-decoration-color: #0087ff\">Dense</span>)                │ (<span style=\"color: #00af00; text-decoration-color: #00af00\">1</span>, <span style=\"color: #00af00; text-decoration-color: #00af00\">64</span>)                │           <span style=\"color: #00af00; text-decoration-color: #00af00\">576</span> │\n",
       "├─────────────────────────────────┼────────────────────────┼───────────────┤\n",
       "│ dense_13 (<span style=\"color: #0087ff; text-decoration-color: #0087ff\">Dense</span>)                │ (<span style=\"color: #00af00; text-decoration-color: #00af00\">1</span>, <span style=\"color: #00af00; text-decoration-color: #00af00\">64</span>)                │         <span style=\"color: #00af00; text-decoration-color: #00af00\">4,160</span> │\n",
       "├─────────────────────────────────┼────────────────────────┼───────────────┤\n",
       "│ dense_14 (<span style=\"color: #0087ff; text-decoration-color: #0087ff\">Dense</span>)                │ (<span style=\"color: #00af00; text-decoration-color: #00af00\">1</span>, <span style=\"color: #00af00; text-decoration-color: #00af00\">4</span>)                 │           <span style=\"color: #00af00; text-decoration-color: #00af00\">260</span> │\n",
       "└─────────────────────────────────┴────────────────────────┴───────────────┘\n",
       "</pre>\n"
      ],
      "text/plain": [
       "┏━━━━━━━━━━━━━━━━━━━━━━━━━━━━━━━━━┳━━━━━━━━━━━━━━━━━━━━━━━━┳━━━━━━━━━━━━━━━┓\n",
       "┃\u001b[1m \u001b[0m\u001b[1mLayer (type)                   \u001b[0m\u001b[1m \u001b[0m┃\u001b[1m \u001b[0m\u001b[1mOutput Shape          \u001b[0m\u001b[1m \u001b[0m┃\u001b[1m \u001b[0m\u001b[1m      Param #\u001b[0m\u001b[1m \u001b[0m┃\n",
       "┡━━━━━━━━━━━━━━━━━━━━━━━━━━━━━━━━━╇━━━━━━━━━━━━━━━━━━━━━━━━╇━━━━━━━━━━━━━━━┩\n",
       "│ dense_12 (\u001b[38;5;33mDense\u001b[0m)                │ (\u001b[38;5;34m1\u001b[0m, \u001b[38;5;34m64\u001b[0m)                │           \u001b[38;5;34m576\u001b[0m │\n",
       "├─────────────────────────────────┼────────────────────────┼───────────────┤\n",
       "│ dense_13 (\u001b[38;5;33mDense\u001b[0m)                │ (\u001b[38;5;34m1\u001b[0m, \u001b[38;5;34m64\u001b[0m)                │         \u001b[38;5;34m4,160\u001b[0m │\n",
       "├─────────────────────────────────┼────────────────────────┼───────────────┤\n",
       "│ dense_14 (\u001b[38;5;33mDense\u001b[0m)                │ (\u001b[38;5;34m1\u001b[0m, \u001b[38;5;34m4\u001b[0m)                 │           \u001b[38;5;34m260\u001b[0m │\n",
       "└─────────────────────────────────┴────────────────────────┴───────────────┘\n"
      ]
     },
     "metadata": {},
     "output_type": "display_data"
    },
    {
     "data": {
      "text/html": [
       "<pre style=\"white-space:pre;overflow-x:auto;line-height:normal;font-family:Menlo,'DejaVu Sans Mono',consolas,'Courier New',monospace\"><span style=\"font-weight: bold\"> Total params: </span><span style=\"color: #00af00; text-decoration-color: #00af00\">4,996</span> (19.52 KB)\n",
       "</pre>\n"
      ],
      "text/plain": [
       "\u001b[1m Total params: \u001b[0m\u001b[38;5;34m4,996\u001b[0m (19.52 KB)\n"
      ]
     },
     "metadata": {},
     "output_type": "display_data"
    },
    {
     "data": {
      "text/html": [
       "<pre style=\"white-space:pre;overflow-x:auto;line-height:normal;font-family:Menlo,'DejaVu Sans Mono',consolas,'Courier New',monospace\"><span style=\"font-weight: bold\"> Trainable params: </span><span style=\"color: #00af00; text-decoration-color: #00af00\">4,996</span> (19.52 KB)\n",
       "</pre>\n"
      ],
      "text/plain": [
       "\u001b[1m Trainable params: \u001b[0m\u001b[38;5;34m4,996\u001b[0m (19.52 KB)\n"
      ]
     },
     "metadata": {},
     "output_type": "display_data"
    },
    {
     "data": {
      "text/html": [
       "<pre style=\"white-space:pre;overflow-x:auto;line-height:normal;font-family:Menlo,'DejaVu Sans Mono',consolas,'Courier New',monospace\"><span style=\"font-weight: bold\"> Non-trainable params: </span><span style=\"color: #00af00; text-decoration-color: #00af00\">0</span> (0.00 B)\n",
       "</pre>\n"
      ],
      "text/plain": [
       "\u001b[1m Non-trainable params: \u001b[0m\u001b[38;5;34m0\u001b[0m (0.00 B)\n"
      ]
     },
     "metadata": {},
     "output_type": "display_data"
    }
   ],
   "source": [
    "myModel = DQN(8, 4, 64)\n",
    "\n",
    "inputData = tf.ones((1,8))\n",
    "print(inputData)\n",
    "y = myModel(inputData)\n",
    "\n",
    "# myModel.compile(\n",
    "#      loss = 'mse',\n",
    "#      metrics = ['mse'],\n",
    "#      optimizer = tf.keras.optimizers.Adam(learning_rate=0.001))\n",
    "myModel.summary()\n",
    "# print(y)"
   ]
  },
  {
   "cell_type": "code",
   "execution_count": 3,
   "id": "9df91676",
   "metadata": {},
   "outputs": [
    {
     "name": "stdout",
     "output_type": "stream",
     "text": [
      "Box([ -2.5        -2.5       -10.        -10.         -6.2831855 -10.\n",
      "  -0.         -0.       ], [ 2.5        2.5       10.        10.         6.2831855 10.\n",
      "  1.         1.       ], (8,), float32)\n",
      "3\n",
      "[-0.00701618  1.4053609  -0.71068066 -0.24709083  0.00813681  0.1609798\n",
      "  0.          0.        ]\n"
     ]
    },
    {
     "name": "stderr",
     "output_type": "stream",
     "text": [
      "c:\\Users\\miniluz\\AppData\\Local\\pypoetry\\Cache\\virtualenvs\\aprendizaje-modulo-lunar-5laruUkD-py3.10\\lib\\site-packages\\pygame\\pkgdata.py:25: UserWarning: pkg_resources is deprecated as an API. See https://setuptools.pypa.io/en/latest/pkg_resources.html. The pkg_resources package is slated for removal as early as 2025-11-30. Refrain from using this package or pin to Setuptools<81.\n",
      "  from pkg_resources import resource_stream, resource_exists\n"
     ]
    }
   ],
   "source": [
    "from lunar import LunarLanderEnv\n",
    "\n",
    "lunar = LunarLanderEnv(render_mode=None)\n",
    "print(lunar.env.observation_space)\n",
    "print(lunar.env.action_space.sample())\n",
    "print(lunar.state)"
   ]
  },
  {
   "cell_type": "code",
   "execution_count": 4,
   "id": "64fc43f4",
   "metadata": {},
   "outputs": [
    {
     "name": "stdout",
     "output_type": "stream",
     "text": [
      "3\n",
      "tf.Tensor(-0.02254521, shape=(), dtype=float32)\n"
     ]
    }
   ],
   "source": [
    "lunarState = lunar.state\n",
    "lunarTensor = tf.convert_to_tensor([lunarState], dtype=np.float32)\n",
    "result = myModel(lunarTensor)\n",
    "print(np.argmax(result[0]))\n",
    "print(result[0][1])"
   ]
  },
  {
   "cell_type": "code",
   "execution_count": 5,
   "id": "ad5e96ff",
   "metadata": {},
   "outputs": [
    {
     "name": "stdout",
     "output_type": "stream",
     "text": [
      "tf.Tensor(\n",
      "[[-0.00458358 -0.         -0.          0.        ]\n",
      " [-0.         -0.02254522 -0.          0.        ]\n",
      " [-0.00458358 -0.         -0.          0.        ]\n",
      " [-0.         -0.         -0.          0.31878754]\n",
      " [-0.00458358 -0.         -0.          0.        ]\n",
      " [-0.         -0.02254522 -0.          0.        ]\n",
      " [-0.00458358 -0.         -0.          0.        ]\n",
      " [-0.         -0.         -0.          0.31878754]\n",
      " [-0.00458358 -0.         -0.          0.        ]\n",
      " [-0.         -0.02254522 -0.          0.        ]\n",
      " [-0.00458358 -0.         -0.          0.        ]\n",
      " [-0.         -0.         -0.          0.31878754]\n",
      " [-0.00458358 -0.         -0.          0.        ]\n",
      " [-0.         -0.02254522 -0.          0.        ]\n",
      " [-0.00458358 -0.         -0.          0.        ]\n",
      " [-0.         -0.         -0.          0.31878754]\n",
      " [-0.00458358 -0.         -0.          0.        ]\n",
      " [-0.         -0.02254522 -0.          0.        ]\n",
      " [-0.00458358 -0.         -0.          0.        ]\n",
      " [-0.         -0.         -0.          0.31878754]\n",
      " [-0.00458358 -0.         -0.          0.        ]\n",
      " [-0.         -0.02254522 -0.          0.        ]\n",
      " [-0.00458358 -0.         -0.          0.        ]\n",
      " [-0.         -0.         -0.          0.31878754]\n",
      " [-0.00458358 -0.         -0.          0.        ]\n",
      " [-0.         -0.02254522 -0.          0.        ]\n",
      " [-0.00458358 -0.         -0.          0.        ]\n",
      " [-0.         -0.         -0.          0.31878754]\n",
      " [-0.00458358 -0.         -0.          0.        ]\n",
      " [-0.         -0.02254522 -0.          0.        ]\n",
      " [-0.00458358 -0.         -0.          0.        ]\n",
      " [-0.         -0.         -0.          0.31878754]\n",
      " [-0.00458358 -0.         -0.          0.        ]\n",
      " [-0.         -0.02254522 -0.          0.        ]\n",
      " [-0.00458358 -0.         -0.          0.        ]\n",
      " [-0.         -0.         -0.          0.31878754]\n",
      " [-0.00458358 -0.         -0.          0.        ]\n",
      " [-0.         -0.02254522 -0.          0.        ]\n",
      " [-0.00458358 -0.         -0.          0.        ]\n",
      " [-0.         -0.         -0.          0.31878754]\n",
      " [-0.00458358 -0.         -0.          0.        ]\n",
      " [-0.         -0.02254522 -0.          0.        ]\n",
      " [-0.00458358 -0.         -0.          0.        ]\n",
      " [-0.         -0.         -0.          0.31878754]\n",
      " [-0.00458358 -0.         -0.          0.        ]\n",
      " [-0.         -0.02254522 -0.          0.        ]\n",
      " [-0.00458358 -0.         -0.          0.        ]\n",
      " [-0.         -0.         -0.          0.31878754]\n",
      " [-0.00458358 -0.         -0.          0.        ]\n",
      " [-0.         -0.02254522 -0.          0.        ]\n",
      " [-0.00458358 -0.         -0.          0.        ]\n",
      " [-0.         -0.         -0.          0.31878754]\n",
      " [-0.00458358 -0.         -0.          0.        ]\n",
      " [-0.         -0.02254522 -0.          0.        ]\n",
      " [-0.00458358 -0.         -0.          0.        ]\n",
      " [-0.         -0.         -0.          0.31878754]\n",
      " [-0.00458358 -0.         -0.          0.        ]\n",
      " [-0.         -0.02254522 -0.          0.        ]\n",
      " [-0.00458358 -0.         -0.          0.        ]\n",
      " [-0.         -0.         -0.          0.31878754]\n",
      " [-0.00458358 -0.         -0.          0.        ]\n",
      " [-0.         -0.02254522 -0.          0.        ]\n",
      " [-0.00458358 -0.         -0.          0.        ]\n",
      " [-0.         -0.         -0.          0.31878754]\n",
      " [-0.00458358 -0.         -0.          0.        ]\n",
      " [-0.         -0.02254522 -0.          0.        ]\n",
      " [-0.00458358 -0.         -0.          0.        ]\n",
      " [-0.         -0.         -0.          0.31878754]\n",
      " [-0.00458358 -0.         -0.          0.        ]\n",
      " [-0.         -0.02254522 -0.          0.        ]\n",
      " [-0.00458358 -0.         -0.          0.        ]\n",
      " [-0.         -0.         -0.          0.31878754]\n",
      " [-0.00458358 -0.         -0.          0.        ]\n",
      " [-0.         -0.02254522 -0.          0.        ]\n",
      " [-0.00458358 -0.         -0.          0.        ]\n",
      " [-0.         -0.         -0.          0.31878754]\n",
      " [-0.00458358 -0.         -0.          0.        ]\n",
      " [-0.         -0.02254522 -0.          0.        ]\n",
      " [-0.00458358 -0.         -0.          0.        ]\n",
      " [-0.         -0.         -0.          0.31878754]\n",
      " [-0.00458358 -0.         -0.          0.        ]\n",
      " [-0.         -0.02254522 -0.          0.        ]\n",
      " [-0.00458358 -0.         -0.          0.        ]\n",
      " [-0.         -0.         -0.          0.31878754]\n",
      " [-0.00458358 -0.         -0.          0.        ]\n",
      " [-0.         -0.02254522 -0.          0.        ]\n",
      " [-0.00458358 -0.         -0.          0.        ]\n",
      " [-0.         -0.         -0.          0.31878754]\n",
      " [-0.00458358 -0.         -0.          0.        ]\n",
      " [-0.         -0.02254522 -0.          0.        ]\n",
      " [-0.00458358 -0.         -0.          0.        ]\n",
      " [-0.         -0.         -0.          0.31878754]\n",
      " [-0.00458358 -0.         -0.          0.        ]\n",
      " [-0.         -0.02254522 -0.          0.        ]\n",
      " [-0.00458358 -0.         -0.          0.        ]\n",
      " [-0.         -0.         -0.          0.31878754]\n",
      " [-0.00458358 -0.         -0.          0.        ]\n",
      " [-0.         -0.02254522 -0.          0.        ]\n",
      " [-0.00458358 -0.         -0.          0.        ]\n",
      " [-0.         -0.         -0.          0.31878754]], shape=(100, 4), dtype=float32)\n",
      "tf.Tensor(\n",
      "[-0.00458358 -0.02254522 -0.00458358  0.31878754 -0.00458358 -0.02254522\n",
      " -0.00458358  0.31878754 -0.00458358 -0.02254522 -0.00458358  0.31878754\n",
      " -0.00458358 -0.02254522 -0.00458358  0.31878754 -0.00458358 -0.02254522\n",
      " -0.00458358  0.31878754 -0.00458358 -0.02254522 -0.00458358  0.31878754\n",
      " -0.00458358 -0.02254522 -0.00458358  0.31878754 -0.00458358 -0.02254522\n",
      " -0.00458358  0.31878754 -0.00458358 -0.02254522 -0.00458358  0.31878754\n",
      " -0.00458358 -0.02254522 -0.00458358  0.31878754 -0.00458358 -0.02254522\n",
      " -0.00458358  0.31878754 -0.00458358 -0.02254522 -0.00458358  0.31878754\n",
      " -0.00458358 -0.02254522 -0.00458358  0.31878754 -0.00458358 -0.02254522\n",
      " -0.00458358  0.31878754 -0.00458358 -0.02254522 -0.00458358  0.31878754\n",
      " -0.00458358 -0.02254522 -0.00458358  0.31878754 -0.00458358 -0.02254522\n",
      " -0.00458358  0.31878754 -0.00458358 -0.02254522 -0.00458358  0.31878754\n",
      " -0.00458358 -0.02254522 -0.00458358  0.31878754 -0.00458358 -0.02254522\n",
      " -0.00458358  0.31878754 -0.00458358 -0.02254522 -0.00458358  0.31878754\n",
      " -0.00458358 -0.02254522 -0.00458358  0.31878754 -0.00458358 -0.02254522\n",
      " -0.00458358  0.31878754 -0.00458358 -0.02254522 -0.00458358  0.31878754\n",
      " -0.00458358 -0.02254522 -0.00458358  0.31878754], shape=(100,), dtype=float32)\n"
     ]
    }
   ],
   "source": [
    "lunarState = lunar.state\n",
    "lunarTensor = tf.convert_to_tensor([lunarState] * 100, dtype=np.float32)\n",
    "actions = tf.convert_to_tensor([0, 1, 0, 3] * 25, dtype=np.int32)\n",
    "# print(tf.one_hot(actions, 4))\n",
    "print(myModel(lunarTensor) * tf.one_hot(actions, 4))\n",
    "result = tf.reduce_sum(myModel(lunarTensor) * tf.one_hot(actions, 4), 1)\n",
    "print(result)"
   ]
  },
  {
   "cell_type": "code",
   "execution_count": 6,
   "metadata": {},
   "outputs": [
    {
     "name": "stdout",
     "output_type": "stream",
     "text": [
      "(8, 64)\n",
      "(64,)\n",
      "(64, 64)\n",
      "(64,)\n",
      "(64, 4)\n",
      "(4,)\n"
     ]
    },
    {
     "data": {
      "text/plain": [
       "<Variable path=adam/iteration, shape=(), dtype=int64, value=1>"
      ]
     },
     "execution_count": 6,
     "metadata": {},
     "output_type": "execute_result"
    }
   ],
   "source": [
    "lunarState = lunar.state\n",
    "states = tf.convert_to_tensor([lunarState] * 100, dtype=np.float32)\n",
    "next_states =  tf.convert_to_tensor([lunarState] * 100, dtype=np.float32)\n",
    "rewards =  tf.convert_to_tensor([1] * 100, dtype=np.float32)\n",
    "dones =  tf.convert_to_tensor([0] * 100, dtype=np.float32)\n",
    "optimizer = keras.optimizers.Adam(learning_rate=0.01)\n",
    "\n",
    "with tf.GradientTape() as tape:\n",
    "    # Get Q-values for the actions that were actually taken\n",
    "    q_values = tf.reduce_sum(myModel(states) * tf.one_hot(actions, 4), axis=1)\n",
    "    \n",
    "    # Get maximum Q-value for the next states from target network\n",
    "    next_q_values = tf.reduce_max(myModel(next_states), axis=1)\n",
    "    \n",
    "    # Compute the expected Q-values\n",
    "    expected_q_values = rewards + 0.9 * next_q_values * (1 - dones)\n",
    "    \n",
    "    # Compute the loss between the current and expected Q values\n",
    "    loss = tf.keras.losses.MeanSquaredError()(expected_q_values, q_values)\n",
    "\n",
    "gradients = tape.gradient(loss, myModel.trainable_weights)\n",
    "for gradient in gradients:\n",
    "    print(gradient.shape)\n",
    "\n",
    "optimizer.apply_gradients(zip(gradients, myModel.trainable_weights))"
   ]
  },
  {
   "cell_type": "code",
   "execution_count": null,
   "metadata": {},
   "outputs": [],
   "source": []
  }
 ],
 "metadata": {
  "kernelspec": {
   "display_name": "aprendizaje-modulo-lunar-5laruUkD-py3.10",
   "language": "python",
   "name": "python3"
  },
  "language_info": {
   "codemirror_mode": {
    "name": "ipython",
    "version": 3
   },
   "file_extension": ".py",
   "mimetype": "text/x-python",
   "name": "python",
   "nbconvert_exporter": "python",
   "pygments_lexer": "ipython3",
   "version": "3.10.0"
  }
 },
 "nbformat": 4,
 "nbformat_minor": 5
}
