{
 "cells": [
  {
   "cell_type": "code",
   "execution_count": 2,
   "id": "b8bfa084",
   "metadata": {},
   "outputs": [
    {
     "name": "stdout",
     "output_type": "stream",
     "text": [
      "ZLUDA device successfully loaded!\n"
     ]
    }
   ],
   "source": [
    "%load_ext autoreload\n",
    "%autoreload 2\n",
    "\n",
    "import pytorch_amd_hack_setup\n",
    "from DQN import *\n",
    "from lunar import LunarLanderEnv\n",
    "import torch"
   ]
  },
  {
   "cell_type": "code",
   "execution_count": 4,
   "id": "6d1563c1",
   "metadata": {},
   "outputs": [
    {
     "name": "stdout",
     "output_type": "stream",
     "text": [
      "QNetwork:\n",
      " DQN(\n",
      "  (input_layer1): Linear(in_features=8, out_features=64, bias=True)\n",
      "  (layer1_layer2): Linear(in_features=64, out_features=64, bias=True)\n",
      "  (layer2_output): Linear(in_features=64, out_features=4, bias=True)\n",
      ")\n",
      "Starting training (code 702865)...\n",
      "[2025-06-03T15:30:32] Training DQN agent with parameters:\n",
      "  - gamma: 0.99\n",
      "  - epsilon: 1.0\n",
      "  - epsilon_decay: 0.995\n",
      "  - epsilon_min: 0.01\n",
      "  - learning_rate: 0.001\n",
      "  - batch_size: 10\n",
      "  - episodes: 3\n",
      "  - target_network_update_freq: 10\n",
      "  - replays_per_episode: 10\n",
      "\n",
      "[2025-06-03T15:30:32] Episode #1 (3.33%) starting...\n"
     ]
    },
    {
     "ename": "ValueError",
     "evalue": "too many values to unpack (expected 5)",
     "output_type": "error",
     "traceback": [
      "\u001b[1;31m---------------------------------------------------------------------------\u001b[0m",
      "\u001b[1;31mValueError\u001b[0m                                Traceback (most recent call last)",
      "Cell \u001b[1;32mIn[4], line 15\u001b[0m\n\u001b[0;32m      3\u001b[0m training_agent_cpu \u001b[38;5;241m=\u001b[39m DQNAgent(lunar, episodes\u001b[38;5;241m=\u001b[39m\u001b[38;5;241m3\u001b[39m, replays_per_episode\u001b[38;5;241m=\u001b[39m\u001b[38;5;241m10\u001b[39m, batch_size\u001b[38;5;241m=\u001b[39m\u001b[38;5;241m10\u001b[39m)\n\u001b[0;32m      5\u001b[0m \u001b[38;5;66;03m# with torch.profiler.profile(\u001b[39;00m\n\u001b[0;32m      6\u001b[0m \u001b[38;5;66;03m#     activities=[\u001b[39;00m\n\u001b[0;32m      7\u001b[0m \u001b[38;5;66;03m#         torch.profiler.ProfilerActivity.CPU,\u001b[39;00m\n\u001b[1;32m   (...)\u001b[0m\n\u001b[0;32m     13\u001b[0m \u001b[38;5;66;03m#     with_stack=True\u001b[39;00m\n\u001b[0;32m     14\u001b[0m \u001b[38;5;66;03m# ) as prof_cpu:\u001b[39;00m\n\u001b[1;32m---> 15\u001b[0m \u001b[43mtraining_agent_cpu\u001b[49m\u001b[38;5;241;43m.\u001b[39;49m\u001b[43mtrain\u001b[49m\u001b[43m(\u001b[49m\u001b[43mbackup_interval\u001b[49m\u001b[38;5;241;43m=\u001b[39;49m\u001b[38;5;241;43m10000\u001b[39;49m\u001b[43m)\u001b[49m\n",
      "File \u001b[1;32mc:\\Users\\miniluz\\Uni\\aprendizaje-modulo-lunar\\DQN.py:345\u001b[0m, in \u001b[0;36mDQNAgent.train\u001b[1;34m(self, save_path, score_window_size, backup_interval)\u001b[0m\n\u001b[0;32m    341\u001b[0m log(\u001b[38;5;124mf\u001b[39m\u001b[38;5;124m\"\u001b[39m\u001b[38;5;124mEpisode #\u001b[39m\u001b[38;5;132;01m{\u001b[39;00mepisode\u001b[38;5;241m+\u001b[39m\u001b[38;5;241m1\u001b[39m\u001b[38;5;132;01m}\u001b[39;00m\u001b[38;5;124m (\u001b[39m\u001b[38;5;132;01m{\u001b[39;00m\u001b[38;5;241m100\u001b[39m\u001b[38;5;241m*\u001b[39m(total_replays\u001b[38;5;241m+\u001b[39m\u001b[38;5;241m1\u001b[39m)\u001b[38;5;241m/\u001b[39m\u001b[38;5;28mself\u001b[39m\u001b[38;5;241m.\u001b[39mepisodes\u001b[38;5;241m/\u001b[39m\u001b[38;5;28mself\u001b[39m\u001b[38;5;241m.\u001b[39mreplays_per_episode\u001b[38;5;132;01m:\u001b[39;00m\u001b[38;5;124m.2f\u001b[39m\u001b[38;5;132;01m}\u001b[39;00m\u001b[38;5;124m%) starting...\u001b[39m\u001b[38;5;124m\"\u001b[39m)\n\u001b[0;32m    343\u001b[0m \u001b[38;5;28;01mfor\u001b[39;00m replay \u001b[38;5;129;01min\u001b[39;00m \u001b[38;5;28mrange\u001b[39m(\u001b[38;5;241m0\u001b[39m, \u001b[38;5;28mself\u001b[39m\u001b[38;5;241m.\u001b[39mreplays_per_episode):\n\u001b[1;32m--> 345\u001b[0m     score \u001b[38;5;241m=\u001b[39m \u001b[38;5;28;43mself\u001b[39;49m\u001b[38;5;241;43m.\u001b[39;49m\u001b[43mperform_replay\u001b[49m\u001b[43m(\u001b[49m\u001b[43m)\u001b[49m \n\u001b[0;32m    347\u001b[0m     epsilons\u001b[38;5;241m.\u001b[39mappend(\u001b[38;5;28mself\u001b[39m\u001b[38;5;241m.\u001b[39mepsilon)\n\u001b[0;32m    348\u001b[0m     score_buffer\u001b[38;5;241m.\u001b[39mappend(score)\n",
      "File \u001b[1;32mc:\\Users\\miniluz\\Uni\\aprendizaje-modulo-lunar\\DQN.py:268\u001b[0m, in \u001b[0;36mDQNAgent.perform_replay\u001b[1;34m(self)\u001b[0m\n\u001b[0;32m    266\u001b[0m \u001b[38;5;28;01mwhile\u001b[39;00m \u001b[38;5;129;01mnot\u001b[39;00m done:\n\u001b[0;32m    267\u001b[0m     _next_state, reward, done, _action \u001b[38;5;241m=\u001b[39m \u001b[38;5;28mself\u001b[39m\u001b[38;5;241m.\u001b[39mact()\n\u001b[1;32m--> 268\u001b[0m     \u001b[38;5;28;43mself\u001b[39;49m\u001b[38;5;241;43m.\u001b[39;49m\u001b[43mupdate_model\u001b[49m\u001b[43m(\u001b[49m\u001b[43m)\u001b[49m\n\u001b[0;32m    270\u001b[0m     score \u001b[38;5;241m+\u001b[39m\u001b[38;5;241m=\u001b[39m reward\n\u001b[0;32m    272\u001b[0m \u001b[38;5;28mself\u001b[39m\u001b[38;5;241m.\u001b[39mepsilon \u001b[38;5;241m=\u001b[39m \u001b[38;5;28mmax\u001b[39m(\u001b[38;5;28mself\u001b[39m\u001b[38;5;241m.\u001b[39mepsilon \u001b[38;5;241m*\u001b[39m \u001b[38;5;28mself\u001b[39m\u001b[38;5;241m.\u001b[39mepsilon_decay, \u001b[38;5;28mself\u001b[39m\u001b[38;5;241m.\u001b[39mepsilon_min)\n",
      "File \u001b[1;32mc:\\Users\\miniluz\\Uni\\aprendizaje-modulo-lunar\\DQN.py:195\u001b[0m, in \u001b[0;36mDQNAgent.update_model\u001b[1;34m(self)\u001b[0m\n\u001b[0;32m    192\u001b[0m \u001b[38;5;28;01mif\u001b[39;00m (sample \u001b[38;5;241m==\u001b[39m \u001b[38;5;28;01mNone\u001b[39;00m):\n\u001b[0;32m    193\u001b[0m     \u001b[38;5;28;01mreturn\u001b[39;00m \u001b[38;5;28;01mNone\u001b[39;00m\n\u001b[1;32m--> 195\u001b[0m states, actions, rewards, next_states, dones \u001b[38;5;241m=\u001b[39m sample\n\u001b[0;32m    196\u001b[0m states \u001b[38;5;241m=\u001b[39m torch\u001b[38;5;241m.\u001b[39mfrom_numpy(states)\u001b[38;5;241m.\u001b[39mfloat()\u001b[38;5;241m.\u001b[39mto(\u001b[38;5;28mself\u001b[39m\u001b[38;5;241m.\u001b[39mdevice)\n\u001b[0;32m    197\u001b[0m actions \u001b[38;5;241m=\u001b[39m torch\u001b[38;5;241m.\u001b[39mfrom_numpy(actions)\u001b[38;5;241m.\u001b[39mlong()\u001b[38;5;241m.\u001b[39mto(\u001b[38;5;28mself\u001b[39m\u001b[38;5;241m.\u001b[39mdevice)\n",
      "\u001b[1;31mValueError\u001b[0m: too many values to unpack (expected 5)"
     ]
    }
   ],
   "source": [
    "lunar = LunarLanderEnv(render_mode=None)\n",
    "\n",
    "training_agent_cpu = DQNAgent(lunar, episodes=3, replays_per_episode=10, batch_size=10)\n",
    "\n",
    "# with torch.profiler.profile(\n",
    "#     activities=[\n",
    "#         torch.profiler.ProfilerActivity.CPU,\n",
    "#         torch.profiler.ProfilerActivity.CUDA\n",
    "#     ],\n",
    "#     on_trace_ready=torch.profiler.tensorboard_trace_handler('./runs/lunar_dqn'),\n",
    "#     record_shapes=True,\n",
    "#     profile_memory=True,\n",
    "#     with_stack=True\n",
    "# ) as prof_cpu:\n",
    "training_agent_cpu.train(backup_interval=10000)\n"
   ]
  },
  {
   "cell_type": "code",
   "execution_count": null,
   "id": "ccbcb8fa",
   "metadata": {},
   "outputs": [
    {
     "name": "stdout",
     "output_type": "stream",
     "text": [
      "(10000, 8)\n",
      "cuda\n",
      "QNetwork:\n",
      " DQN(\n",
      "  (input_layer1): Linear(in_features=8, out_features=64, bias=True)\n",
      "  (layer1_layer2): Linear(in_features=64, out_features=64, bias=True)\n",
      "  (layer2_output): Linear(in_features=64, out_features=4, bias=True)\n",
      ")\n",
      "Starting training (code 896599)...\n",
      "[2025-06-03T14:54:51] Training DQN agent with parameters:\n",
      "  - gamma: 0.99\n",
      "  - epsilon: 1.0\n",
      "  - epsilon_decay: 0.995\n",
      "  - epsilon_min: 0.01\n",
      "  - learning_rate: 0.001\n",
      "  - batch_size: 10\n",
      "  - episodes: 3\n",
      "  - target_network_update_freq: 10\n",
      "  - replays_per_episode: 10\n",
      "\n",
      "[2025-06-03T14:54:51] Episode #1 (3.33%) starting...\n",
      "[2025-06-03T14:54:53]     Replay 1 (3.33%) had score: -88.05\n",
      "[2025-06-03T14:54:53]     Saving model to training/training_896599/episode_1_replay_1_(-88.05).h5\n",
      "[2025-06-03T14:54:59] Episode #2 (36.67%) starting...\n",
      "[2025-06-03T14:55:00]     Replay 1 (36.67%) had score: -164.88\n",
      "[2025-06-03T14:55:00]     Saving model to training/training_896599/episode_2_replay_1_(-164.88).h5\n",
      "[2025-06-03T14:55:07] Episode #3 (70.00%) starting...\n",
      "[2025-06-03T14:55:08]     Replay 1 (70.00%) had score: -157.18\n",
      "[2025-06-03T14:55:08]     Saving model to training/training_896599/episode_3_replay_1_(-157.18).h5\n",
      "[2025-06-03T14:55:15] Saving scores, averaged scores and epsilons to files...\n",
      "Training finished! Saving as \"modelo_DQN.h5\"\n"
     ]
    }
   ],
   "source": [
    "lunar = LunarLanderEnv(render_mode=None)\n",
    "\n",
    "training_agent_gpu = GPUDQNAgent(lunar=lunar, episodes=3, replays_per_episode=10, batch_size=10)\n",
    "\n",
    "with torch.profiler.profile(\n",
    "    activities=[\n",
    "        torch.profiler.ProfilerActivity.CPU,\n",
    "        torch.profiler.ProfilerActivity.CUDA\n",
    "    ],\n",
    "    on_trace_ready=torch.profiler.tensorboard_trace_handler('./runs/lunar_dqn'),\n",
    "    record_shapes=True,\n",
    "    profile_memory=True,\n",
    "    with_stack=True\n",
    ") as prof_gpu:\n",
    "    training_agent_gpu.train(backup_interval=10)"
   ]
  },
  {
   "cell_type": "code",
   "execution_count": null,
   "id": "b2997513",
   "metadata": {},
   "outputs": [
    {
     "name": "stdout",
     "output_type": "stream",
     "text": [
      "-------------------------------------------------------  ------------  ------------  ------------  ------------  ------------  ------------  ------------  ------------  ------------  ------------  ------------  ------------  ------------  ------------  \n",
      "                                                   Name    Self CPU %      Self CPU   CPU total %     CPU total  CPU time avg     Self CUDA   Self CUDA %    CUDA total  CUDA time avg       CPU Mem  Self CPU Mem      CUDA Mem  Self CUDA Mem    # of Calls  \n",
      "-------------------------------------------------------  ------------  ------------  ------------  ------------  ------------  ------------  ------------  ------------  ------------  ------------  ------------  ------------  ------------  ------------  \n",
      "                               Optimizer.step#Adam.step        10.25%        1.040s        20.40%        2.071s     783.741us     444.850ms         3.53%        2.515s     952.114us          24 b     -10.32 Kb      41.00 Kb     -52.89 Mb          2642  \n",
      "                                               aten::to         0.65%      65.984ms        25.80%        2.618s     135.621us      35.257ms         0.28%        2.474s     128.162us       6.19 Kb           0 b       6.54 Mb           0 b         19306  \n",
      "                                         aten::_to_copy         3.35%     339.709ms        25.14%        2.551s     187.331us     196.387ms         1.56%        2.439s     179.091us       4.34 Kb         528 b       6.54 Mb      38.00 Kb         13619  \n",
      "                                           aten::linear         1.81%     184.055ms        14.36%        1.457s      88.913us      30.399ms         0.24%        2.341s     142.820us           0 b           0 b      36.77 Mb           0 b         16392  \n",
      "                                            aten::addmm         9.30%     943.791ms        10.10%        1.026s      62.563us        2.220s        17.64%        2.237s     136.458us           0 b           0 b      36.77 Mb      36.77 Mb         16392  \n",
      "                                            aten::copy_        21.37%        2.169s        21.37%        2.169s     158.967us        2.165s        17.20%        2.165s     158.727us           0 b           0 b           0 b           0 b         13642  \n",
      "    autograd::engine::evaluate_function: AddmmBackward0         2.65%     269.290ms        15.82%        1.606s     202.577us      10.025ms         0.08%        1.519s     191.628us           0 b           0 b      46.83 Mb     -27.09 Mb          7926  \n",
      "                                         AddmmBackward0         2.26%     229.564ms        10.78%        1.094s     138.042us      22.891ms         0.18%     961.912ms     121.362us           0 b           0 b      70.05 Mb           0 b          7926  \n",
      "                                               aten::mm         5.81%     589.353ms         5.81%     589.353ms      44.651us     929.541ms         7.38%     929.541ms      70.425us           0 b           0 b      69.98 Mb      69.98 Mb         13199  \n",
      "                                            aten::fill_         0.85%      86.064ms         0.85%      86.064ms      10.858us     836.996ms         6.65%     836.996ms     105.601us           0 b           0 b           0 b           0 b          7926  \n",
      "-------------------------------------------------------  ------------  ------------  ------------  ------------  ------------  ------------  ------------  ------------  ------------  ------------  ------------  ------------  ------------  ------------  \n",
      "Self CPU time total: 10.150s\n",
      "Self CUDA time total: 12.587s\n",
      "\n",
      "-------------------------------------------------------  ------------  ------------  ------------  ------------  ------------  ------------  ------------  ------------  ------------  ------------  ------------  ------------  ------------  ------------  \n",
      "                                                   Name    Self CPU %      Self CPU   CPU total %     CPU total  CPU time avg     Self CUDA   Self CUDA %    CUDA total  CUDA time avg       CPU Mem  Self CPU Mem      CUDA Mem  Self CUDA Mem    # of Calls  \n",
      "-------------------------------------------------------  ------------  ------------  ------------  ------------  ------------  ------------  ------------  ------------  ------------  ------------  ------------  ------------  ------------  ------------  \n",
      "                                            aten::copy_        49.31%        8.244s        49.31%        8.244s     409.101us        4.941s        25.01%        4.941s     245.182us           0 b           0 b           0 b           0 b         20151  \n",
      "                                           aten::linear         1.28%     213.775ms         8.85%        1.479s      83.699us      25.921ms         0.13%        3.170s     179.380us           0 b           0 b      30.75 Mb           0 b         17673  \n",
      "                                            aten::addmm         5.31%     887.396ms         5.92%     989.793ms      56.006us        3.125s        15.82%        3.131s     177.180us           0 b           0 b      30.75 Mb      30.75 Mb         17673  \n",
      "    autograd::engine::evaluate_function: AddmmBackward0         1.24%     207.751ms         8.36%        1.398s     164.602us      11.586ms         0.06%        2.272s     267.535us           0 b           0 b      41.47 Mb     -29.03 Mb          8493  \n",
      "                               Optimizer.step#Adam.step         7.38%        1.234s        13.72%        2.293s     810.088us     120.765ms         0.61%        2.140s     755.827us          24 b     -11.06 Kb      41.00 Kb     -56.68 Mb          2831  \n",
      "                                               aten::to         0.22%      37.384ms        33.06%        5.527s     903.291us      17.810ms         0.09%        1.864s     304.646us       3.58 Kb           0 b       2.77 Mb           0 b          6119  \n",
      "                                         aten::_to_copy         0.80%     133.359ms        32.84%        5.490s     929.066us      44.710ms         0.23%        1.846s     312.459us       3.58 Kb         160 b       2.77 Mb         512 b          5909  \n",
      "                                         AddmmBackward0         1.55%     259.037ms         6.40%        1.070s     125.983us      24.293ms         0.12%        1.544s     181.818us           0 b           0 b      66.35 Mb           0 b          8493  \n",
      "                                               aten::mm         2.97%     495.748ms         2.97%     495.748ms      35.033us        1.517s         7.68%        1.517s     107.171us           0 b           0 b      66.33 Mb      66.33 Mb         14151  \n",
      "                                            aten::index         2.45%     410.167ms         2.96%     495.160ms      34.984us        1.275s         6.45%        1.276s      90.139us           0 b           0 b       6.91 Mb       6.91 Mb         14154  \n",
      "-------------------------------------------------------  ------------  ------------  ------------  ------------  ------------  ------------  ------------  ------------  ------------  ------------  ------------  ------------  ------------  ------------  \n",
      "Self CPU time total: 16.718s\n",
      "Self CUDA time total: 19.753s\n",
      "\n"
     ]
    }
   ],
   "source": [
    "print(prof_cpu.key_averages().table(sort_by=\"cuda_time_total\", row_limit=10))\n",
    "print(prof_gpu.key_averages().table(sort_by=\"cuda_time_total\", row_limit=10))"
   ]
  },
  {
   "cell_type": "code",
   "execution_count": null,
   "id": "b469bb76",
   "metadata": {},
   "outputs": [],
   "source": []
  }
 ],
 "metadata": {
  "kernelspec": {
   "display_name": "aprendizaje-modulo-lunar-5laruUkD-py3.10",
   "language": "python",
   "name": "python3"
  },
  "language_info": {
   "codemirror_mode": {
    "name": "ipython",
    "version": 3
   },
   "file_extension": ".py",
   "mimetype": "text/x-python",
   "name": "python",
   "nbconvert_exporter": "python",
   "pygments_lexer": "ipython3",
   "version": "3.10.0"
  }
 },
 "nbformat": 4,
 "nbformat_minor": 5
}
