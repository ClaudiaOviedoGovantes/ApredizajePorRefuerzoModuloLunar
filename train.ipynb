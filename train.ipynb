{
 "cells": [
  {
   "cell_type": "code",
   "execution_count": 2,
   "id": "b8bfa084",
   "metadata": {},
   "outputs": [],
   "source": [
    "%load_ext autoreload\n",
    "%autoreload 2\n",
    "\n",
    "from DQN import *\n",
    "from lunar import LunarLanderEnv"
   ]
  },
  {
   "cell_type": "code",
   "execution_count": 3,
   "id": "0441c4f0",
   "metadata": {},
   "outputs": [],
   "source": [
    "def test_lunar_lander(steps_to_run_before_pause, agent, episodes=1):\n",
    "    \"\"\"\n",
    "    Test the Lunar Lander environment with a given agent.\n",
    "    \n",
    "    Parameters:\n",
    "    steps_to_run_before_pause (int): Number of steps to run before pausing for user input.\n",
    "    agent: The agent to be tested in the environment.\n",
    "    \n",
    "    Returns:\n",
    "    None\n",
    "    \"\"\"\n",
    "    # Initialize the environment\n",
    "    lunar = LunarLanderEnv(render_mode=\"human\")\n",
    "    \n",
    "    if(agent is not None):\n",
    "        # Set the agent's environment\n",
    "        agent.lunar = lunar\n",
    "        \n",
    "    for _ in range(episodes):\n",
    "        counter, score = 0, 0\n",
    "\n",
    "        while True:\n",
    "            if steps_to_run_before_pause != 0 and counter % steps_to_run_before_pause == 0:\n",
    "                input(\"Press Enter to continue...\")\n",
    "\n",
    "            if(agent is not None):\n",
    "                _, reward, done, action = agent.act()\n",
    "                \n",
    "            else:\n",
    "                # Sample a random action from the action space\n",
    "                action = lunar.env.action_space.sample()\n",
    "            \n",
    "                # Take a step in the environment\n",
    "                _, reward, done = lunar.take_action(action, verbose=True)\n",
    "                \n",
    "            score += reward\n",
    "            \n",
    "            counter += 1\n",
    "            \n",
    "            if done:\n",
    "                print(f\"Episode finished, score: {score}\")\n",
    "                break\n",
    "        if(agent is not None):\n",
    "            # Reset the agent's environment for the next episode\n",
    "            agent.lunar.reset()\n",
    "        else:\n",
    "            # Reset the environment for the next episode\n",
    "            lunar.reset()\n",
    "        \n",
    "    # Close the environment\n",
    "    lunar.close()"
   ]
  },
  {
   "cell_type": "code",
   "execution_count": 14,
   "id": "6d1563c1",
   "metadata": {},
   "outputs": [
    {
     "name": "stderr",
     "output_type": "stream",
     "text": [
      "WARNING:absl:You are saving your model as an HDF5 file via `model.save()` or `keras.saving.save_model(model)`. This file format is considered legacy. We recommend using instead the native Keras format, e.g. `model.save('my_model.keras')` or `keras.saving.save_model(model, 'my_model.keras')`. \n"
     ]
    },
    {
     "name": "stdout",
     "output_type": "stream",
     "text": [
      "QNetwork:\n",
      " <DQN name=dqn_20, built=True>\n",
      "Starting training (code 451094)...\n",
      "Training DQN agent with parameters:\n",
      "  - gamma: 0.99\n",
      "  - epsilon: 1.0\n",
      "  - epsilon_decay: 0.995\n",
      "  - epsilon_min: 0.01\n",
      "  - learning_rate: 0.001\n",
      "  - batch_size: 64\n",
      "  - episodes: 1500\n",
      "  - target_network_update_freq: 10\n",
      "  - replays_per_episode: 1000\n",
      "\n",
      "Episode #1 (0.07%)\n",
      "Episode 1 had score: -128.41\n",
      "Saving model to training/training_451094/episode_1_(-128.41).h5\n",
      "Episode #11 (0.73%)\n",
      "Episode #21 (1.40%)\n",
      "Episode #31 (2.07%)\n",
      "Episode #41 (2.73%)\n",
      "Episode #51 (3.40%)\n"
     ]
    },
    {
     "name": "stderr",
     "output_type": "stream",
     "text": [
      "WARNING:absl:You are saving your model as an HDF5 file via `model.save()` or `keras.saving.save_model(model)`. This file format is considered legacy. We recommend using instead the native Keras format, e.g. `model.save('my_model.keras')` or `keras.saving.save_model(model, 'my_model.keras')`. \n"
     ]
    },
    {
     "name": "stdout",
     "output_type": "stream",
     "text": [
      "Episode 51 had score: -176.15\n",
      "Saving model to training/training_451094/episode_51_(-176.15).h5\n",
      "Episode #61 (4.07%)\n",
      "Episode #71 (4.73%)\n",
      "Episode #81 (5.40%)\n",
      "Episode #91 (6.07%)\n",
      "Episode #101 (6.73%)\n"
     ]
    },
    {
     "name": "stderr",
     "output_type": "stream",
     "text": [
      "WARNING:absl:You are saving your model as an HDF5 file via `model.save()` or `keras.saving.save_model(model)`. This file format is considered legacy. We recommend using instead the native Keras format, e.g. `model.save('my_model.keras')` or `keras.saving.save_model(model, 'my_model.keras')`. \n"
     ]
    },
    {
     "name": "stdout",
     "output_type": "stream",
     "text": [
      "Episode 101 had score: -148.66\n",
      "Saving model to training/training_451094/episode_101_(-148.66).h5\n",
      "Episode #111 (7.40%)\n",
      "Episode #121 (8.07%)\n",
      "Episode #131 (8.73%)\n",
      "Episode #141 (9.40%)\n",
      "Episode #151 (10.07%)\n"
     ]
    },
    {
     "name": "stderr",
     "output_type": "stream",
     "text": [
      "WARNING:absl:You are saving your model as an HDF5 file via `model.save()` or `keras.saving.save_model(model)`. This file format is considered legacy. We recommend using instead the native Keras format, e.g. `model.save('my_model.keras')` or `keras.saving.save_model(model, 'my_model.keras')`. \n"
     ]
    },
    {
     "name": "stdout",
     "output_type": "stream",
     "text": [
      "Episode 151 had score: -96.26\n",
      "Saving model to training/training_451094/episode_151_(-96.26).h5\n",
      "Episode #161 (10.73%)\n",
      "Episode #171 (11.40%)\n",
      "Episode #181 (12.07%)\n",
      "Episode #191 (12.73%)\n",
      "Episode #201 (13.40%)\n"
     ]
    },
    {
     "name": "stderr",
     "output_type": "stream",
     "text": [
      "WARNING:absl:You are saving your model as an HDF5 file via `model.save()` or `keras.saving.save_model(model)`. This file format is considered legacy. We recommend using instead the native Keras format, e.g. `model.save('my_model.keras')` or `keras.saving.save_model(model, 'my_model.keras')`. \n"
     ]
    },
    {
     "name": "stdout",
     "output_type": "stream",
     "text": [
      "Episode 201 had score: -67.71\n",
      "Saving model to training/training_451094/episode_201_(-67.71).h5\n",
      "Episode #211 (14.07%)\n",
      "Episode #221 (14.73%)\n",
      "Episode #231 (15.40%)\n",
      "Episode #241 (16.07%)\n",
      "Episode #251 (16.73%)\n"
     ]
    },
    {
     "name": "stderr",
     "output_type": "stream",
     "text": [
      "WARNING:absl:You are saving your model as an HDF5 file via `model.save()` or `keras.saving.save_model(model)`. This file format is considered legacy. We recommend using instead the native Keras format, e.g. `model.save('my_model.keras')` or `keras.saving.save_model(model, 'my_model.keras')`. \n"
     ]
    },
    {
     "name": "stdout",
     "output_type": "stream",
     "text": [
      "Episode 251 had score: -33.64\n",
      "Saving model to training/training_451094/episode_251_(-33.64).h5\n",
      "Episode #261 (17.40%)\n",
      "Episode #271 (18.07%)\n",
      "Episode #281 (18.73%)\n",
      "Episode #291 (19.40%)\n",
      "Episode #301 (20.07%)\n"
     ]
    },
    {
     "name": "stderr",
     "output_type": "stream",
     "text": [
      "WARNING:absl:You are saving your model as an HDF5 file via `model.save()` or `keras.saving.save_model(model)`. This file format is considered legacy. We recommend using instead the native Keras format, e.g. `model.save('my_model.keras')` or `keras.saving.save_model(model, 'my_model.keras')`. \n"
     ]
    },
    {
     "name": "stdout",
     "output_type": "stream",
     "text": [
      "Episode 301 had score: 21.26\n",
      "Saving model to training/training_451094/episode_301_(21.26).h5\n",
      "Episode #311 (20.73%)\n",
      "Episode #321 (21.40%)\n",
      "Episode #331 (22.07%)\n",
      "Episode #341 (22.73%)\n",
      "Episode #351 (23.40%)\n"
     ]
    },
    {
     "name": "stderr",
     "output_type": "stream",
     "text": [
      "WARNING:absl:You are saving your model as an HDF5 file via `model.save()` or `keras.saving.save_model(model)`. This file format is considered legacy. We recommend using instead the native Keras format, e.g. `model.save('my_model.keras')` or `keras.saving.save_model(model, 'my_model.keras')`. \n"
     ]
    },
    {
     "name": "stdout",
     "output_type": "stream",
     "text": [
      "Episode 351 had score: 49.17\n",
      "Saving model to training/training_451094/episode_351_(49.17).h5\n",
      "Episode #361 (24.07%)\n",
      "Episode #371 (24.73%)\n",
      "Episode #381 (25.40%)\n",
      "Episode #391 (26.07%)\n",
      "Episode #401 (26.73%)\n"
     ]
    },
    {
     "name": "stderr",
     "output_type": "stream",
     "text": [
      "WARNING:absl:You are saving your model as an HDF5 file via `model.save()` or `keras.saving.save_model(model)`. This file format is considered legacy. We recommend using instead the native Keras format, e.g. `model.save('my_model.keras')` or `keras.saving.save_model(model, 'my_model.keras')`. \n"
     ]
    },
    {
     "name": "stdout",
     "output_type": "stream",
     "text": [
      "Episode 401 had score: 68.45\n",
      "Saving model to training/training_451094/episode_401_(68.45).h5\n",
      "Episode #411 (27.40%)\n",
      "Episode #421 (28.07%)\n",
      "Episode #431 (28.73%)\n",
      "Episode #441 (29.40%)\n",
      "Episode #451 (30.07%)\n"
     ]
    },
    {
     "name": "stderr",
     "output_type": "stream",
     "text": [
      "WARNING:absl:You are saving your model as an HDF5 file via `model.save()` or `keras.saving.save_model(model)`. This file format is considered legacy. We recommend using instead the native Keras format, e.g. `model.save('my_model.keras')` or `keras.saving.save_model(model, 'my_model.keras')`. \n"
     ]
    },
    {
     "name": "stdout",
     "output_type": "stream",
     "text": [
      "Episode 451 had score: 75.33\n",
      "Saving model to training/training_451094/episode_451_(75.33).h5\n",
      "Episode #461 (30.73%)\n",
      "Episode #471 (31.40%)\n",
      "Episode #481 (32.07%)\n",
      "Episode #491 (32.73%)\n",
      "Episode #501 (33.40%)\n"
     ]
    },
    {
     "name": "stderr",
     "output_type": "stream",
     "text": [
      "WARNING:absl:You are saving your model as an HDF5 file via `model.save()` or `keras.saving.save_model(model)`. This file format is considered legacy. We recommend using instead the native Keras format, e.g. `model.save('my_model.keras')` or `keras.saving.save_model(model, 'my_model.keras')`. \n"
     ]
    },
    {
     "name": "stdout",
     "output_type": "stream",
     "text": [
      "Episode 501 had score: 77.93\n",
      "Saving model to training/training_451094/episode_501_(77.93).h5\n",
      "Episode #511 (34.07%)\n",
      "Episode #521 (34.73%)\n",
      "Episode #531 (35.40%)\n",
      "Episode #541 (36.07%)\n",
      "Episode #551 (36.73%)\n"
     ]
    },
    {
     "name": "stderr",
     "output_type": "stream",
     "text": [
      "WARNING:absl:You are saving your model as an HDF5 file via `model.save()` or `keras.saving.save_model(model)`. This file format is considered legacy. We recommend using instead the native Keras format, e.g. `model.save('my_model.keras')` or `keras.saving.save_model(model, 'my_model.keras')`. \n"
     ]
    },
    {
     "name": "stdout",
     "output_type": "stream",
     "text": [
      "Episode 551 had score: 111.75\n",
      "Saving model to training/training_451094/episode_551_(111.75).h5\n",
      "Episode #561 (37.40%)\n",
      "Episode #571 (38.07%)\n",
      "Episode #581 (38.73%)\n",
      "Episode #591 (39.40%)\n",
      "Episode #601 (40.07%)\n"
     ]
    },
    {
     "name": "stderr",
     "output_type": "stream",
     "text": [
      "WARNING:absl:You are saving your model as an HDF5 file via `model.save()` or `keras.saving.save_model(model)`. This file format is considered legacy. We recommend using instead the native Keras format, e.g. `model.save('my_model.keras')` or `keras.saving.save_model(model, 'my_model.keras')`. \n"
     ]
    },
    {
     "name": "stdout",
     "output_type": "stream",
     "text": [
      "Episode 601 had score: 134.86\n",
      "Saving model to training/training_451094/episode_601_(134.86).h5\n",
      "Episode #611 (40.73%)\n",
      "Episode #621 (41.40%)\n",
      "Episode #631 (42.07%)\n",
      "Episode #641 (42.73%)\n",
      "Episode #651 (43.40%)\n"
     ]
    },
    {
     "name": "stderr",
     "output_type": "stream",
     "text": [
      "WARNING:absl:You are saving your model as an HDF5 file via `model.save()` or `keras.saving.save_model(model)`. This file format is considered legacy. We recommend using instead the native Keras format, e.g. `model.save('my_model.keras')` or `keras.saving.save_model(model, 'my_model.keras')`. \n"
     ]
    },
    {
     "name": "stdout",
     "output_type": "stream",
     "text": [
      "Episode 651 had score: 131.99\n",
      "Saving model to training/training_451094/episode_651_(131.99).h5\n",
      "Episode #661 (44.07%)\n",
      "Episode #671 (44.73%)\n",
      "Episode #681 (45.40%)\n",
      "Episode #691 (46.07%)\n",
      "Episode #701 (46.73%)\n"
     ]
    },
    {
     "name": "stderr",
     "output_type": "stream",
     "text": [
      "WARNING:absl:You are saving your model as an HDF5 file via `model.save()` or `keras.saving.save_model(model)`. This file format is considered legacy. We recommend using instead the native Keras format, e.g. `model.save('my_model.keras')` or `keras.saving.save_model(model, 'my_model.keras')`. \n"
     ]
    },
    {
     "name": "stdout",
     "output_type": "stream",
     "text": [
      "Episode 701 had score: 102.22\n",
      "Saving model to training/training_451094/episode_701_(102.22).h5\n",
      "Episode #711 (47.40%)\n",
      "Episode #721 (48.07%)\n",
      "Episode #731 (48.73%)\n",
      "Episode #741 (49.40%)\n",
      "Episode #751 (50.07%)\n"
     ]
    },
    {
     "name": "stderr",
     "output_type": "stream",
     "text": [
      "WARNING:absl:You are saving your model as an HDF5 file via `model.save()` or `keras.saving.save_model(model)`. This file format is considered legacy. We recommend using instead the native Keras format, e.g. `model.save('my_model.keras')` or `keras.saving.save_model(model, 'my_model.keras')`. \n"
     ]
    },
    {
     "name": "stdout",
     "output_type": "stream",
     "text": [
      "Episode 751 had score: 94.54\n",
      "Saving model to training/training_451094/episode_751_(94.54).h5\n",
      "Episode #761 (50.73%)\n",
      "Episode #771 (51.40%)\n",
      "Episode #781 (52.07%)\n",
      "Episode #791 (52.73%)\n",
      "Episode #801 (53.40%)\n"
     ]
    },
    {
     "name": "stderr",
     "output_type": "stream",
     "text": [
      "WARNING:absl:You are saving your model as an HDF5 file via `model.save()` or `keras.saving.save_model(model)`. This file format is considered legacy. We recommend using instead the native Keras format, e.g. `model.save('my_model.keras')` or `keras.saving.save_model(model, 'my_model.keras')`. \n"
     ]
    },
    {
     "name": "stdout",
     "output_type": "stream",
     "text": [
      "Episode 801 had score: 154.14\n",
      "Saving model to training/training_451094/episode_801_(154.14).h5\n",
      "Episode #811 (54.07%)\n",
      "Episode #821 (54.73%)\n",
      "Episode #831 (55.40%)\n",
      "Episode #841 (56.07%)\n",
      "Episode #851 (56.73%)\n"
     ]
    },
    {
     "name": "stderr",
     "output_type": "stream",
     "text": [
      "WARNING:absl:You are saving your model as an HDF5 file via `model.save()` or `keras.saving.save_model(model)`. This file format is considered legacy. We recommend using instead the native Keras format, e.g. `model.save('my_model.keras')` or `keras.saving.save_model(model, 'my_model.keras')`. \n"
     ]
    },
    {
     "name": "stdout",
     "output_type": "stream",
     "text": [
      "Episode 851 had score: 196.00\n",
      "Saving model to training/training_451094/episode_851_(196.00).h5\n",
      "Episode #861 (57.40%)\n",
      "Episode #871 (58.07%)\n",
      "Episode #881 (58.73%)\n",
      "Episode #891 (59.40%)\n",
      "Episode #901 (60.07%)\n"
     ]
    },
    {
     "name": "stderr",
     "output_type": "stream",
     "text": [
      "WARNING:absl:You are saving your model as an HDF5 file via `model.save()` or `keras.saving.save_model(model)`. This file format is considered legacy. We recommend using instead the native Keras format, e.g. `model.save('my_model.keras')` or `keras.saving.save_model(model, 'my_model.keras')`. \n"
     ]
    },
    {
     "name": "stdout",
     "output_type": "stream",
     "text": [
      "Episode 901 had score: 201.39\n",
      "Saving model to training/training_451094/episode_901_(201.39).h5\n",
      "Episode #911 (60.73%)\n",
      "Episode #921 (61.40%)\n",
      "Episode #931 (62.07%)\n",
      "Episode #941 (62.73%)\n",
      "Episode #951 (63.40%)\n"
     ]
    },
    {
     "name": "stderr",
     "output_type": "stream",
     "text": [
      "WARNING:absl:You are saving your model as an HDF5 file via `model.save()` or `keras.saving.save_model(model)`. This file format is considered legacy. We recommend using instead the native Keras format, e.g. `model.save('my_model.keras')` or `keras.saving.save_model(model, 'my_model.keras')`. \n"
     ]
    },
    {
     "name": "stdout",
     "output_type": "stream",
     "text": [
      "Episode 951 had score: 189.75\n",
      "Saving model to training/training_451094/episode_951_(189.75).h5\n",
      "Episode #961 (64.07%)\n",
      "Episode #971 (64.73%)\n",
      "Episode #981 (65.40%)\n",
      "Episode #991 (66.07%)\n",
      "Episode #1001 (66.73%)\n"
     ]
    },
    {
     "name": "stderr",
     "output_type": "stream",
     "text": [
      "WARNING:absl:You are saving your model as an HDF5 file via `model.save()` or `keras.saving.save_model(model)`. This file format is considered legacy. We recommend using instead the native Keras format, e.g. `model.save('my_model.keras')` or `keras.saving.save_model(model, 'my_model.keras')`. \n"
     ]
    },
    {
     "name": "stdout",
     "output_type": "stream",
     "text": [
      "Episode 1001 had score: 184.93\n",
      "Saving model to training/training_451094/episode_1001_(184.93).h5\n",
      "Episode #1011 (67.40%)\n",
      "Episode #1021 (68.07%)\n",
      "Episode #1031 (68.73%)\n",
      "Episode #1041 (69.40%)\n",
      "Episode #1051 (70.07%)\n"
     ]
    },
    {
     "name": "stderr",
     "output_type": "stream",
     "text": [
      "WARNING:absl:You are saving your model as an HDF5 file via `model.save()` or `keras.saving.save_model(model)`. This file format is considered legacy. We recommend using instead the native Keras format, e.g. `model.save('my_model.keras')` or `keras.saving.save_model(model, 'my_model.keras')`. \n"
     ]
    },
    {
     "name": "stdout",
     "output_type": "stream",
     "text": [
      "Episode 1051 had score: 208.44\n",
      "Saving model to training/training_451094/episode_1051_(208.44).h5\n",
      "Episode #1061 (70.73%)\n",
      "Episode #1071 (71.40%)\n",
      "Episode #1081 (72.07%)\n",
      "Episode #1091 (72.73%)\n",
      "Episode #1101 (73.40%)\n"
     ]
    },
    {
     "name": "stderr",
     "output_type": "stream",
     "text": [
      "WARNING:absl:You are saving your model as an HDF5 file via `model.save()` or `keras.saving.save_model(model)`. This file format is considered legacy. We recommend using instead the native Keras format, e.g. `model.save('my_model.keras')` or `keras.saving.save_model(model, 'my_model.keras')`. \n"
     ]
    },
    {
     "name": "stdout",
     "output_type": "stream",
     "text": [
      "Episode 1101 had score: 244.42\n",
      "Saving model to training/training_451094/episode_1101_(244.42).h5\n",
      "Episode #1111 (74.07%)\n",
      "Episode #1121 (74.73%)\n",
      "Episode #1131 (75.40%)\n",
      "Episode #1141 (76.07%)\n",
      "Episode #1151 (76.73%)\n"
     ]
    },
    {
     "name": "stderr",
     "output_type": "stream",
     "text": [
      "WARNING:absl:You are saving your model as an HDF5 file via `model.save()` or `keras.saving.save_model(model)`. This file format is considered legacy. We recommend using instead the native Keras format, e.g. `model.save('my_model.keras')` or `keras.saving.save_model(model, 'my_model.keras')`. \n"
     ]
    },
    {
     "name": "stdout",
     "output_type": "stream",
     "text": [
      "Episode 1151 had score: 268.96\n",
      "Saving model to training/training_451094/episode_1151_(268.96).h5\n",
      "Episode #1161 (77.40%)\n",
      "Episode #1171 (78.07%)\n",
      "Episode #1181 (78.73%)\n",
      "Episode #1191 (79.40%)\n",
      "Episode #1201 (80.07%)\n"
     ]
    },
    {
     "name": "stderr",
     "output_type": "stream",
     "text": [
      "WARNING:absl:You are saving your model as an HDF5 file via `model.save()` or `keras.saving.save_model(model)`. This file format is considered legacy. We recommend using instead the native Keras format, e.g. `model.save('my_model.keras')` or `keras.saving.save_model(model, 'my_model.keras')`. \n"
     ]
    },
    {
     "name": "stdout",
     "output_type": "stream",
     "text": [
      "Episode 1201 had score: 253.81\n",
      "Saving model to training/training_451094/episode_1201_(253.81).h5\n",
      "Episode #1211 (80.73%)\n",
      "Episode #1221 (81.40%)\n",
      "Episode #1231 (82.07%)\n",
      "Episode #1241 (82.73%)\n",
      "Episode #1251 (83.40%)\n"
     ]
    },
    {
     "name": "stderr",
     "output_type": "stream",
     "text": [
      "WARNING:absl:You are saving your model as an HDF5 file via `model.save()` or `keras.saving.save_model(model)`. This file format is considered legacy. We recommend using instead the native Keras format, e.g. `model.save('my_model.keras')` or `keras.saving.save_model(model, 'my_model.keras')`. \n"
     ]
    },
    {
     "name": "stdout",
     "output_type": "stream",
     "text": [
      "Episode 1251 had score: 237.51\n",
      "Saving model to training/training_451094/episode_1251_(237.51).h5\n",
      "Episode #1261 (84.07%)\n",
      "Episode #1271 (84.73%)\n",
      "Episode #1281 (85.40%)\n",
      "Episode #1291 (86.07%)\n",
      "Episode #1301 (86.73%)\n"
     ]
    },
    {
     "name": "stderr",
     "output_type": "stream",
     "text": [
      "WARNING:absl:You are saving your model as an HDF5 file via `model.save()` or `keras.saving.save_model(model)`. This file format is considered legacy. We recommend using instead the native Keras format, e.g. `model.save('my_model.keras')` or `keras.saving.save_model(model, 'my_model.keras')`. \n"
     ]
    },
    {
     "name": "stdout",
     "output_type": "stream",
     "text": [
      "Episode 1301 had score: 200.42\n",
      "Saving model to training/training_451094/episode_1301_(200.42).h5\n",
      "Episode #1311 (87.40%)\n",
      "Episode #1321 (88.07%)\n",
      "Episode #1331 (88.73%)\n",
      "Episode #1341 (89.40%)\n",
      "Episode #1351 (90.07%)\n"
     ]
    },
    {
     "name": "stderr",
     "output_type": "stream",
     "text": [
      "WARNING:absl:You are saving your model as an HDF5 file via `model.save()` or `keras.saving.save_model(model)`. This file format is considered legacy. We recommend using instead the native Keras format, e.g. `model.save('my_model.keras')` or `keras.saving.save_model(model, 'my_model.keras')`. \n"
     ]
    },
    {
     "name": "stdout",
     "output_type": "stream",
     "text": [
      "Episode 1351 had score: 187.56\n",
      "Saving model to training/training_451094/episode_1351_(187.56).h5\n",
      "Episode #1361 (90.73%)\n",
      "Episode #1371 (91.40%)\n",
      "Episode #1381 (92.07%)\n",
      "Episode #1391 (92.73%)\n",
      "Episode #1401 (93.40%)\n"
     ]
    },
    {
     "name": "stderr",
     "output_type": "stream",
     "text": [
      "WARNING:absl:You are saving your model as an HDF5 file via `model.save()` or `keras.saving.save_model(model)`. This file format is considered legacy. We recommend using instead the native Keras format, e.g. `model.save('my_model.keras')` or `keras.saving.save_model(model, 'my_model.keras')`. \n"
     ]
    },
    {
     "name": "stdout",
     "output_type": "stream",
     "text": [
      "Episode 1401 had score: 179.01\n",
      "Saving model to training/training_451094/episode_1401_(179.01).h5\n",
      "Episode #1411 (94.07%)\n",
      "Episode #1421 (94.73%)\n",
      "Episode #1431 (95.40%)\n",
      "Episode #1441 (96.07%)\n",
      "Episode #1451 (96.73%)\n"
     ]
    },
    {
     "name": "stderr",
     "output_type": "stream",
     "text": [
      "WARNING:absl:You are saving your model as an HDF5 file via `model.save()` or `keras.saving.save_model(model)`. This file format is considered legacy. We recommend using instead the native Keras format, e.g. `model.save('my_model.keras')` or `keras.saving.save_model(model, 'my_model.keras')`. \n"
     ]
    },
    {
     "name": "stdout",
     "output_type": "stream",
     "text": [
      "Episode 1451 had score: 150.70\n",
      "Saving model to training/training_451094/episode_1451_(150.70).h5\n",
      "Episode #1461 (97.40%)\n",
      "Episode #1471 (98.07%)\n",
      "Episode #1481 (98.73%)\n",
      "Episode #1491 (99.40%)\n"
     ]
    },
    {
     "name": "stderr",
     "output_type": "stream",
     "text": [
      "WARNING:absl:You are saving your model as an HDF5 file via `model.save()` or `keras.saving.save_model(model)`. This file format is considered legacy. We recommend using instead the native Keras format, e.g. `model.save('my_model.keras')` or `keras.saving.save_model(model, 'my_model.keras')`. \n"
     ]
    },
    {
     "name": "stdout",
     "output_type": "stream",
     "text": [
      "Saving scores, averaged scores and epsilons to files...\n",
      "Training finished! Saving as \"modelo_DQN.h5\"\n"
     ]
    }
   ],
   "source": [
    "lunar = LunarLanderEnv(render_mode=None)\n",
    "training_agent = DQNAgent(lunar)\n",
    "training_agent.train()"
   ]
  },
  {
   "cell_type": "code",
   "execution_count": null,
   "id": "2f2c5e56",
   "metadata": {},
   "outputs": [],
   "source": [
    "execution_agent = DQNAgent(lunar, epsilon=0.0)\n",
    "execution_agent.load_model(\"training\\training_451094\\episode_1151_(268.96).h5\")\n",
    "test_lunar_lander(steps_to_run_before_pause=0, agent=execution_agent)"
   ]
  }
 ],
 "metadata": {
  "kernelspec": {
   "display_name": "aprendizaje-modulo-lunar-5laruUkD-py3.10",
   "language": "python",
   "name": "python3"
  },
  "language_info": {
   "codemirror_mode": {
    "name": "ipython",
    "version": 3
   },
   "file_extension": ".py",
   "mimetype": "text/x-python",
   "name": "python",
   "nbconvert_exporter": "python",
   "pygments_lexer": "ipython3",
   "version": "3.10.0"
  }
 },
 "nbformat": 4,
 "nbformat_minor": 5
}
